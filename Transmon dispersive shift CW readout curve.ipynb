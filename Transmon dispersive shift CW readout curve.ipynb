{
 "cells": [
  {
   "cell_type": "code",
   "execution_count": 3,
   "id": "8dfa8f2b",
   "metadata": {},
   "outputs": [
    {
     "name": "stdout",
     "output_type": "stream",
     "text": [
      "3.12.5 | packaged by conda-forge | (main, Aug  8 2024, 18:24:51) [MSC v.1940 64 bit (AMD64)]\n"
     ]
    }
   ],
   "source": [
    "import sys\n",
    "print(sys.version)\n",
    "import itertools\n",
    "\n",
    "import numpy as np\n",
    "import scipy as sp\n",
    "import qutip as qp\n",
    "import matplotlib.pyplot as plt"
   ]
  },
  {
   "cell_type": "markdown",
   "id": "df85258b",
   "metadata": {},
   "source": [
    "# Transmon diagonalization"
   ]
  },
  {
   "cell_type": "code",
   "execution_count": 4,
   "id": "88112792",
   "metadata": {},
   "outputs": [],
   "source": [
    "class TmonParams:\n",
    "    def __init__(\n",
    "            self, EC=0.2, EJ=22, alpha=0.25, flux_ext=0, c1=1, c2=0,\n",
    "            basis: str=\"charge\", eigensystem_n: int=3, charge_n_max: int=5\n",
    "        ):\n",
    "        r\"\"\"\n",
    "        Parameters\n",
    "        ----------\n",
    "        EC: float\n",
    "            Ec = \\frac{e^2}/{2 h C} [GHz]\n",
    "            Ec entries hamiltonian as `4 Ec n^2`\n",
    "        EJ: float\n",
    "            EJ = \\frac{Ic}{2e} \\frac{1}{2pi} [GHz] \n",
    "        alpha: float\n",
    "            E_{J1}/E_{J2} in [0, 1]\n",
    "        flux_ext: float\n",
    "            external flux normalized in [0, 1]\n",
    "        c1: float\n",
    "            external flux coefficient at branch E_{J1}\n",
    "        c2: float\n",
    "            external flux coefficient at branch E_{J2}\n",
    "         tmon_params: TmonParams\n",
    "            Transmon model physical parameters\n",
    "        basis: str\n",
    "            Type of basis to solve in \"charge\" or \"flux\"\n",
    "        eigensystem_n: int\n",
    "            number of eigenfunctions to find\n",
    "        charge_n_max: int\n",
    "            size of charge basis\n",
    "        \"\"\"\n",
    "        self.EC: float = EC\n",
    "        self.EJ: float = EJ\n",
    "        self.alpha: float = alpha\n",
    "        self.flux_ext: float = flux_ext\n",
    "        self.c1: float = c1\n",
    "        self.c2: float = c2\n",
    "\n",
    "        # eigenvectrors basis (charge or flux)\n",
    "        self.basis: str = basis\n",
    "        self.eigensystem_n: int = eigensystem_n  # amount of vectors in eigenbasis to find\n",
    "        self.charge_n_max: int = charge_n_max  # charge basis size\n",
    "\n",
    "    def get_pars_tuple(self) -> tuple[float]:\n",
    "        return (self.EC, self.EJ, self.alpha, self.flux_ext, self.c1, self.c2)\n",
    "\n",
    "class Tmon:\n",
    "    def __init__(self, tmon_params: TmonParams=TmonParams()):\n",
    "        self.pars: TmonParams = tmon_params\n",
    "\n",
    "    @staticmethod    \n",
    "    def construct_ec_cb(tmon_pars) -> np.ndarray:\n",
    "        r\"\"\"\n",
    "        H 4*E_C*n^2\n",
    "        H = 4*E_C*\\hat{n}^2\n",
    "        \"\"\"\n",
    "        pars = tmon_pars\n",
    "        diag_entries = [i**2 for i in range(-pars.charge_n_max, pars.charge_n_max + 1)]\n",
    "        ec = 4*pars.EC*qp.qdiags(diagonals=[diag_entries], offsets=[0])\n",
    "        return ec\n",
    "\n",
    "    @staticmethod\n",
    "    def construct_ej_cb(tmon_pars) -> np.ndarray:\n",
    "        r\"\"\"\n",
    "        - alpha * E_J * cos(phi - c1*flux_ext) - E_J * cos(phi - c2*flux_ext)\n",
    "         - \\alpha* E_J * \\cos({\\hat{\\phi} - c1*\\phi_{ext}}) - E_J * \\cos({\\hat{\\phi} - c2*\\phi_{ext}})\n",
    "        \"\"\"\n",
    "        def get_ejj_cb(ej, phi_ext):\n",
    "            # return ej*cos(\\op(phi) - phi_ext) in charge basis\n",
    "            ejj = qp.qdiags(\n",
    "                diagonals=[\n",
    "                    (ej*np.exp(-1j*2*np.pi*phi_ext))*np.ones(2*tmon_pars.charge_n_max),  # upper diagonal\n",
    "                    (ej*np.exp(1j*2*np.pi*phi_ext))*np.ones(2*tmon_pars.charge_n_max)  # lower diagonal\n",
    "                ],\n",
    "                offsets=[1, -1]\n",
    "            )\n",
    "            return 1/2*ejj\n",
    "        pars = tmon_pars\n",
    "        Ejj1 = get_ejj_cb(ej=pars.alpha*pars.EJ, phi_ext=pars.c1*pars.flux_ext)\n",
    "        Ejj2 = get_ejj_cb(ej=pars.EJ, phi_ext=pars.c2*pars.flux_ext)\n",
    "        return -Ejj1 - Ejj2\n",
    "    \n",
    "    @staticmethod\n",
    "    def get_h_cb(tmon_pars: TmonParams) -> qp.Qobj:\n",
    "        r\"\"\"\n",
    "        H = 4*E_C*n^2 - alpha * E_J * cos(phi - c1*flux_ext) - E_J * cos(phi - c2*flux_ext)\n",
    "        H = 4*E_C*\\hat{n}^2 - \\alpha* E_J * \\cos({\\hat{\\phi} - c1*\\phi_{ext}}) - E_J * \\cos({\\hat{\\phi} - c2*\\phi_{ext}})\n",
    "        \"\"\"\n",
    "        Hc = Tmon.construct_ec_cb(tmon_pars=tmon_pars)\n",
    "        Hj = Tmon.construct_ej_cb(tmon_pars=tmon_pars)\n",
    "        return Hc + Hj"
   ]
  },
  {
   "cell_type": "code",
   "execution_count": 5,
   "id": "11a75bdf",
   "metadata": {},
   "outputs": [],
   "source": [
    "phi_ext_n : int = 20\n",
    "phi_ext_arr = np.linspace(start=0, stop=1, num=phi_ext_n, endpoint=False)\n",
    "\n",
    "eigvals_n = 3\n",
    "evals_arr = []\n",
    "evecs_arr = []\n",
    "\n",
    "\n",
    "for phi_idx, phi_ext in enumerate(phi_ext_arr):\n",
    "    h = Tmon.get_h_cb(TmonParams(flux_ext=phi_ext))\n",
    "    evals, evecs = h.eigenstates(eigvals=eigvals_n)\n",
    "    evals_arr.append(evals[1:2] - evals[0])\n",
    "    evecs_arr.append(evecs)\n",
    "\n",
    "evals_arr = np.array(evals_arr)\n",
    "evecs_arr = np.array(evecs_arr)"
   ]
  },
  {
   "cell_type": "code",
   "execution_count": 6,
   "id": "b8ee7d58",
   "metadata": {},
   "outputs": [
    {
     "data": {
      "image/png": "[encoded data removed]",
      "text/plain": [
       "<Figure size 640x480 with 1 Axes>"
      ]
     },
     "metadata": {},
     "output_type": "display_data"
    }
   ],
   "source": [
    "fig, ax = plt.subplots(1,1)\n",
    "for evals in evals_arr.T:\n",
    "    ax.plot(phi_ext_arr, evals)"
   ]
  },
  {
   "cell_type": "markdown",
   "id": "ee345549",
   "metadata": {},
   "source": [
    "# Resonator + Tmon diagonalization"
   ]
  },
  {
   "cell_type": "code",
   "execution_count": 7,
   "id": "c23a0f96",
   "metadata": {},
   "outputs": [],
   "source": [
    "class RoResParams:\n",
    "    def __init__(self, freq=7.2, kappa=2e-3, gc=12e-3, max_excitations=5) -> None:\n",
    "        r\"\"\"\n",
    "        Physical paramters of a lamda/4 coplanar waveguide readout resonator\n",
    "        freq: float\n",
    "            [GHz] resonator frequency\n",
    "        kappa: float\n",
    "            [Ghz] photon loss rate into readout waveguide\n",
    "        gc: float\n",
    "            [Ghz] coupling between resonator and qubit $H_{int} = g_c \\sigma_x (a + a^{dag})$\n",
    "        max_excitations: int\n",
    "        \"\"\"\n",
    "        self.freq = freq\n",
    "        self.kappa = kappa\n",
    "        self.gc = gc\n",
    "\n",
    "        self.max_excitations = 5\n",
    "\n",
    "class RoResonator:\n",
    "    def __init__(self, pars: RoResParams = RoResParams()):\n",
    "        self.pars = pars\n",
    "\n",
    "    @staticmethod\n",
    "    def get_h_osc(pars: RoResParams = RoResParams()):\n",
    "        r\"\"\"\n",
    "        Oscillator energy\n",
    "        E_r/h = \\nu_r a a^{\\dag}\n",
    "        \"\"\"\n",
    "        return pars.freq*qp.num(N=pars.max_excitations)"
   ]
  },
  {
   "cell_type": "code",
   "execution_count": 8,
   "id": "91aac5cc",
   "metadata": {},
   "outputs": [],
   "source": [
    "t_pars = TmonParams(eigensystem_n=4)\n",
    "r_pars = RoResParams()\n",
    "phi_ext_arr = np.linspace(start=0, stop=1, num=20, endpoint=False)\n",
    "n_op_eigh_list = []\n",
    "evals_arr = []\n",
    "evecs_arr = []\n",
    "# prepare many-time used operators\n",
    "n_op = qp.charge(Nmax=t_pars.charge_n_max)\n",
    "pos = np.sqrt(2) * qp.position(N=r_pars.max_excitations)\n",
    "h_osc = qp.tensor(qp.identity(t_pars.eigensystem_n), RoResonator.get_h_osc(r_pars))\n",
    "\n",
    "for phi in phi_ext_arr:\n",
    "    t_pars.flux_ext = phi\n",
    "    h_tmon_cb = Tmon.get_h_cb(tmon_pars=t_pars)\n",
    "\n",
    "    evals, evecs_Sm = h_tmon_cb.eigenstates(eigvals=t_pars.eigensystem_n)\n",
    "    # charge operator in eigenbasis\n",
    "    n_op_eigh = np.empty((len(evals), len(evals)), dtype=complex)\n",
    "    for (i, v1), (j, v2) in itertools.product(enumerate(evecs_Sm), enumerate(evecs_Sm)):\n",
    "        n_op_eigh[i,j] = v1.full().T.dot(n_op.full()).dot(v2.full())[0,0]\n",
    "    n_op_eigh = qp.Qobj(n_op_eigh)\n",
    "    \n",
    "    h_q = qp.tensor(qp.qdiags(evals-evals[0]), qp.identity(r_pars.max_excitations)) \n",
    "    h_int = r_pars.gc*np.sqrt(2)*qp.tensor(n_op_eigh, pos)\n",
    "    h = h_q + h_osc + h_int\n",
    "    evals, evecs = h.eigenstates(eigvals=4)\n",
    "    evals_arr.append(evals)\n",
    "    evecs_arr.append(evecs)\n",
    "\n",
    "evals_arr = np.array(evals_arr).T"
   ]
  },
  {
   "cell_type": "code",
   "execution_count": 9,
   "id": "751a1391",
   "metadata": {},
   "outputs": [
    {
     "name": "stderr",
     "output_type": "stream",
     "text": [
      "c:\\Users\\botan\\anaconda3\\envs\\qp-nbs\\Lib\\site-packages\\matplotlib\\cbook.py:1762: ComplexWarning: Casting complex values to real discards the imaginary part\n",
      "  return math.isfinite(val)\n",
      "c:\\Users\\botan\\anaconda3\\envs\\qp-nbs\\Lib\\site-packages\\matplotlib\\cbook.py:1398: ComplexWarning: Casting complex values to real discards the imaginary part\n",
      "  return np.asarray(x, float)\n"
     ]
    },
    {
     "data": {
      "image/png": "[encoded data removed]",
      "text/plain": [
       "<Figure size 640x480 with 1 Axes>"
      ]
     },
     "metadata": {},
     "output_type": "display_data"
    }
   ],
   "source": [
    "fig, ax = plt.subplots(1,1)\n",
    "for evals in (evals_arr - evals_arr[0]):\n",
    "    ax.plot(phi_ext_arr, evals)"
   ]
  },
  {
   "cell_type": "markdown",
   "id": "b17894be",
   "metadata": {},
   "source": [
    "# decay rates simulation\n",
    "Verification of decay rates from readout resonator"
   ]
  },
  {
   "cell_type": "markdown",
   "id": "efd33218",
   "metadata": {},
   "source": [
    "## Theory"
   ]
  },
  {
   "cell_type": "markdown",
   "id": "47401663",
   "metadata": {},
   "source": [
    "If interaction between bath consisting of single bosonic mode can be written as:\n",
    "$$H_I/\\hbar \\propto g\\left( b e^{-i\\omega_E t} + b^{\\dag} e^{i \\omega_E t} \\right) \\left( A_-e^{-i\\omega_s t} + A_+ e^{i \\omega_s t} \\right)$$\n",
    "bath is described by boson modes $b$ and has:<br>\n",
    "a) no squeezed modes <br>\n",
    "b) correlated frequencies<br>\n",
    "<br>\n",
    "and if Linblad operator is written as\n",
    "$$L[a](\\rho) = a \\rho a^{\\dag} - 1/2 \\left(a^{\\dag} a, \\rho + \\rho a^{\\dag} a\\right) = b \\rho a^{\\dag} - 1/2 \\left\\{{a^{\\dag} a, \\rho } \\right\\}$$\n",
    "then \n",
    "$$ \\partial_t \\rho = ... +\\; (n+1) \\gamma L[a](\\rho) + n \\gamma L[a^{\\dag}](\\rho) $$\n",
    "$$ \\gamma = \\sqrt{\\frac{g}{2 \\pi}} $$\n",
    "and collacpse operators (quantum jumps approach) are \n",
    "$$C_1 = \\sqrt{\\gamma (n+1)} A_-(t) \\quad C_2 = \\sqrt{\\gamma n} A_+(t)$$\n",
    "where $n = \\langle b^{\\dag} b \\rangle$ for external bath."
   ]
  },
  {
   "cell_type": "markdown",
   "id": "99e4d402",
   "metadata": {},
   "source": [
    "Above equations may differ from a lot of authtors up to $\\gamma \\rightarrow \\gamma/2$ depending on the Linblad operator definition \n",
    "$$L \\coloneqq a \\rho a^{\\dag} - ...$$ \n",
    "or \n",
    "$$L \\coloneqq 2 a \\rho a^{\\dag} - ... $$"
   ]
  },
  {
   "cell_type": "markdown",
   "id": "565ce0a3",
   "metadata": {},
   "source": [
    "Further we assume that bath temperature is zero.<br>\n",
    "Moving to interaction picture with $H_0 = \\omega_c a a^{\\dag}$:\n",
    "$$ H \\rightarrow 0 $$\n",
    "$$ b \\rightarrow a e^{-i \\omega_r t} $$"
   ]
  },
  {
   "cell_type": "markdown",
   "id": "42ba7844",
   "metadata": {},
   "source": [
    "We have\n",
    "$$ \\partial_t \\rho_I = \\gamma L[a_I](\\rho_I) =  \\gamma L[a](\\rho_I)$$\n",
    "In last equality we used that $\\hat{a}_I = \\hat{a} e^{-i\\omega_c t}$ and interaction picture rotation cancels out.<br>\n",
    " $\\langle a \\rangle(t) \\propto e^{-\\gamma/2 t}$ "
   ]
  },
  {
   "cell_type": "code",
   "execution_count": 32,
   "id": "98cf802a",
   "metadata": {},
   "outputs": [
    {
     "data": {
      "text/plain": [
       "<matplotlib.legend.Legend at 0x25313e5a9c0>"
      ]
     },
     "execution_count": 32,
     "metadata": {},
     "output_type": "execute_result"
    },
    {
     "data": {
      "image/png": "[encoded data removed]",
      "text/plain": [
       "<Figure size 640x480 with 1 Axes>"
      ]
     },
     "metadata": {},
     "output_type": "display_data"
    }
   ],
   "source": [
    "gamma = 0.2\n",
    "n_basis = 10\n",
    "alpha = 2\n",
    "psi_0 = qp.coherent(N=n_basis, alpha=alpha)\n",
    "a = qp.destroy(N=n_basis)\n",
    "\n",
    "times = np.linspace(0,20, 100)\n",
    "\n",
    "# monte-carlo solution\n",
    "\n",
    "\n",
    "# linblad solution\n",
    "sol_res = qp.mesolve(H=qp.qzero(n_basis), rho0=psi_0, tlist=times, c_ops=[np.sqrt(gamma)*a], e_ops=[a])\n",
    "y = sol_res.expect[0]\n",
    "# fit with decay exponent\n",
    "def f(t, *p):\n",
    "    y = p[0]*np.exp(- p[1]*t) + p[2]\n",
    "    return y\n",
    "fit_res = sp.optimize.curve_fit(f, times, y, p0=[alpha, 5*kappa, 0])\n",
    "\n",
    "fig, ax = plt.subplots(1,1)\n",
    "ax.scatter(times, y)\n",
    "ax.plot(\n",
    "    times, f(times, *fit_res[0]), 'r-',\n",
    "      label=r\"$\\langle a^{\\dag}a \\rangle (t) = A e^{-\\kappa t} + C$\" + \"\\n\" + \n",
    "      fr\"$\\kappa = {fit_res[0][1]:.4}$\" + \"\\n\" +\n",
    "      r\"$ c_{op} = \\sqrt{\\gamma/2} \\hat{a}$\"\n",
    ")\n",
    "ax.legend()"
   ]
  },
  {
   "cell_type": "markdown",
   "id": "8fdbbc5a",
   "metadata": {},
   "source": [
    "## Flux operator in cooper pairs excess number basis (charge basis).\n",
    "$$\\cos({\\hat{\\phi} - \\phi_{ext}}) = \\frac{1}{2} \\left( e^{-i\\phi_{ext}} \\left( \\sum_{m=-\\infty}^{\\infty} \\ket{m+1}\\bra{m} \\right) +  e^{i \\phi_{ext}} \\left( \\sum_{m=-\\infty}^{\\infty}\\ket{m}\\bra{m-1} \\right) \\right)$$\n"
   ]
  },
  {
   "cell_type": "markdown",
   "id": "67e4bc5f",
   "metadata": {},
   "source": [
    "### Proof\n",
    "We have $\\cos(\\hat{\\phi} - \\phi_{ext})$ in josephson junction's hamiltonian and wish compute hamiltonian in charge basis.\n"
   ]
  },
  {
   "cell_type": "markdown",
   "id": "f46d5cef",
   "metadata": {},
   "source": [
    "$\\cos({\\hat{\\phi} - \\phi_{ext}}) = \\frac{1}{2} (e^{i (\\hat{\\phi} - \\phi_{ext})} + e^{ -i (\\hat{\\phi} - \\phi_{ext})}) = \\frac{1}{2} (e^{-i\\phi_{ext}}e^{i \\hat{\\phi}} + e^{i\\phi_{ext}}e^{-i \\hat{\\phi}})$."
   ]
  },
  {
   "cell_type": "markdown",
   "id": "ba88b065",
   "metadata": {},
   "source": [
    "All the data on canonical pulse and coordinate relations will be based on relation \n",
    "$$ [\\hat{\\phi}, \\hat{n}] = i \\hat{1} $$"
   ]
  },
  {
   "cell_type": "markdown",
   "id": "befc2b2a",
   "metadata": {},
   "source": [
    "We will need the following equality\n",
    "\n",
    "$$ [e^{i \\hat{\\phi}}, \\hat{n}] = \\sum_{k=0}^{\\infty} \\frac{i^k}{k!}[\\phi^k, n] = - e^{i \\hat{\\phi}} $$"
   ]
  },
  {
   "cell_type": "markdown",
   "id": "be9aee3c",
   "metadata": {},
   "source": [
    "\n",
    "Proof:\n",
    "$$ [\\phi^k, n] = \\phi [\\phi^{k-1}, n] + [\\phi, n] \\phi^{k-1}, \\;\\; k \\geq 1 $$\n",
    "$$ a_k = [\\phi^k, n], \\;\\; a_k = \\phi a_{k-1} + i \\phi^{k-1} $$\n",
    "$$ a_k = c_k \\phi^{k-1} $$\n",
    "$$ c_k = c_{k-1} + i, \\; \\; c_1 = i \\; \\rightarrow \\; c_k = i k $$\n",
    "$$ [\\phi^k, n] = i k \\phi^{k-1} $$\n",
    "$$ [e^{i \\phi}, n] = \\sum_{k=1}^{\\infty} \\frac{i^k}{k!} (i k \\phi^{k-1})  = \\sum_{k=0}^{\\infty} (i^2)\\frac{i^{k-1}}{(k-1)!} \\phi^{k-1} = - e^{i \\phi} $$"
   ]
  },
  {
   "cell_type": "markdown",
   "id": "2f03037b",
   "metadata": {},
   "source": [
    "Now we can apply both parts to the vector $\\ket{m}$, such that $\\hat{n}\\ket{m} = m\\ket{m}$\n",
    "$$ \\hat{n} \\ket{m} - \\hat{n} e^{-i \\hat{\\phi}} \\ket{m} = e^{-i\\hat{\\phi}} \\ket{m} $$\n",
    "$$ \\hat{n} e^{-i \\hat{\\phi}} \\ket{m} = (m - 1) e^{-i \\hat{\\phi}} \\ket{m}$$\n",
    "\n",
    "Hence $e^{i \\hat{\\phi}} \\ket{m}$ is the eigenvector of the operator $\\hat{n}$ with the eigenvalue $m-1$:\n",
    "$$ e^{-i \\hat{\\phi}} \\ket{m} = c_m \\ket{m-1} $$\n",
    "\n",
    "If $\\hat{\\phi}$ is hermitian then $e^{-i\\hat{\\phi}}$ is unitary. Adding that $\\ket{n}$ are normalized $c_m = e^{i \\alpha_m}, \\; \\alpha_m \\in [0,2\\pi)$\n",
    "$$ e^{-i \\hat{\\phi}} \\ket{m} = e^{i \\alpha_m} \\ket{m-1} $$"
   ]
  },
  {
   "cell_type": "markdown",
   "id": "0406a2ec",
   "metadata": {},
   "source": [
    "\n",
    "Using that (todo: derive from $[\\phi, n] = i$ and formal series/generalized functions)\n",
    "$$ \\hat{n} = -i \\frac{\\partial}{\\partial \\phi} $$\n",
    "or if written properly in braket notation with use of a generalized Loran-Schwartz functions:\n",
    "$$ \\bra{\\phi}\\hat{n}\\ket{\\psi} = i\\delta'(\\psi - \\phi) $$\n",
    "\n",
    "One can establish a connection between canonical momentum and coordinate basises.\n",
    "Writing equation for momentum eigenfunctions in coordinate basis:\n",
    "$$ -i\\partial_{\\phi} \\psi_m = m \\psi_m $$\n",
    "$$ \\psi_m(\\phi) = C_m e^{-i m \\phi} $$\n",
    "No matter what variable types are momentum and coordinate (discrete, continious, periodic) $\\phi$ normalization gives $\\lvert C_m \\rvert = 1/\\sqrt{2 \\pi}$\n",
    "We choose\n",
    "$$ \\psi_m(\\phi) = \\frac{1}{\\sqrt{2 \\pi}} e^{-i m \\phi}"
   ]
  },
  {
   "cell_type": "markdown",
   "id": "bcaa6e70",
   "metadata": {},
   "source": [
    "In bracket notation\n",
    "$$ \\braket{\\phi \\vert m} = \\frac{1}{\\sqrt{2 \\pi}} e^{i m \\phi} $$\n",
    "$$ \\braket{m \\vert\\phi} = \\frac{1}{\\sqrt{2 \\pi}} e^{-i n \\phi}$$\n",
    "\n",
    "$\\ket{\\phi}$ can be represented in a charge basis:\n",
    "$$ \\ket{\\phi} = \\sum_{m=-\\infty}^{\\infty} \\frac{1}{\\sqrt{2 \\pi}} e^{-i m \\phi} \\ket{m} $$\n",
    "\n",
    "Assumig that $\\hat{\\phi}$ and $e^{i \\hat{\\phi}}$ has the same eigensystems\n",
    "$$e^{i \\hat{\\phi}}\\ket{\\phi} = e^{i \\phi}\\ket{\\phi} = $$\n",
    "\n",
    "On the other hand :\n",
    "$$e^{i \\hat{\\phi}} \\ket{\\phi} = \\sum_{m=-\\infty}^{\\infty} \\braket{m \\vert \\phi} e^{i \\hat{\\phi}} \\ket{m} = \\sum_{m=-\\infty}^{\\infty} \\braket{m \\vert \\phi} c_m \\ket{m-1} $$\n",
    "\n",
    "Equalizing both results for $e^{i \\hat{\\phi}}\\ket{\\phi}$ and projecting them on the momentum eigenfunction $\\ket{k}$\n",
    "$$ e^{i \\phi} \\braket{k \\vert \\phi} = \\braket{k+1 \\vert \\phi} c_{k+1} $$\n",
    "$$ c_m = e^{i \\phi} \\frac{\\braket{m-1 \\vert \\phi}}{\\braket{m \\vert \\phi}} = 1$$\n",
    "\n",
    "We have derived\n",
    "$$ e^{i \\hat{\\phi}} = \\sum_{m=-\\infty}^{\\infty}\\ket{m-1}\\bra{m}$$"
   ]
  },
  {
   "cell_type": "markdown",
   "id": "4351ef68",
   "metadata": {},
   "source": [
    "$$\\cos({\\hat{\\phi} - \\phi_{ext}}) = \\frac{1}{2} \\left( e^{-i\\phi_{ext}} \\left( \\sum_{m=-\\infty}^{\\infty} \\ket{m-1}\\bra{m} \\right) +  e^{i \\phi_{ext}} \\left( \\sum_{m=-\\infty}^{\\infty}\\ket{m+1}\\bra{m} \\right) \\right)$$"
   ]
  },
  {
   "cell_type": "markdown",
   "id": "0d5e5efe",
   "metadata": {},
   "source": []
  },
  {
   "cell_type": "markdown",
   "id": "d0bbe4c8",
   "metadata": {},
   "source": [
    "## Interaction picture for resonator operators\n",
    "$$ \\hat{H}_0/\\hbar = \\omega_r \\hat{a}^{\\dag} \\hat{a} $$\n",
    "$$ \\hat{a_I} = \\hat{a} e^{- i \\omega_r t} $$"
   ]
  },
  {
   "cell_type": "markdown",
   "id": "e9dbed02",
   "metadata": {},
   "source": []
  },
  {
   "cell_type": "markdown",
   "id": "e77b0b35",
   "metadata": {},
   "source": [
    "### Proof"
   ]
  },
  {
   "cell_type": "markdown",
   "id": "fe928d5e",
   "metadata": {},
   "source": [
    "$$ a_I = U_0^{\\dag} a U_0 \\quad U_0 = \\exp(-i H_0/\\hbar t) $$\n",
    "$$ \\frac{d a_I}{d t} =  i\\omega_r [\\hat{n}, a_I] = \\big\\vert [\\hat{n}, U_0] = 0 \\big\\vert = - i \\omega_r a_I $$"
   ]
  },
  {
   "cell_type": "code",
   "execution_count": null,
   "id": "9b468ce8",
   "metadata": {},
   "outputs": [],
   "source": []
  },
  {
   "cell_type": "markdown",
   "id": "9b6154f7",
   "metadata": {},
   "source": []
  }
 ],
 "metadata": {
  "kernelspec": {
   "display_name": "qp-nbs",
   "language": "python",
   "name": "python3"
  },
  "language_info": {
   "codemirror_mode": {
    "name": "ipython",
    "version": 3
   },
   "file_extension": ".py",
   "mimetype": "text/x-python",
   "name": "python",
   "nbconvert_exporter": "python",
   "pygments_lexer": "ipython3",
   "version": "3.12.5"
  }
 },
 "nbformat": 4,
 "nbformat_minor": 5
}

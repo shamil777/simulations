import sys
print(sys.version)
import itertools

import numpy as np
import scipy as sp
import qutip as qp
import matplotlib.pyplot as plt





class TmonParams:
    def __init__(
            self, EC=0.2, EJ=22, alpha=0.25, flux_ext=0, c1=1, c2=0,
            basis: str="charge", eigensystem_n: int=3, charge_n_max: int=5
        ):
        r"""
        Parameters
        ----------
        EC: float
            Ec = \frac{e^2}/{2 h C} [GHz]
            Ec entries hamiltonian as `4 Ec n^2`
        EJ: float
            EJ = \frac{Ic}{2e} \frac{1}{2pi} [GHz] 
        alpha: float
            E_{J1}/E_{J2} in [0, 1]
        flux_ext: float
            external flux normalized in [0, 1]
        c1: float
            external flux coefficient at branch E_{J1}
        c2: float
            external flux coefficient at branch E_{J2}
         tmon_params: TmonParams
            Transmon model physical parameters
        basis: str
            Type of basis to solve in "charge" or "flux"
        eigensystem_n: int
            number of eigenfunctions to find
        charge_n_max: int
            size of charge basis
        """
        self.EC: float = EC
        self.EJ: float = EJ
        self.alpha: float = alpha
        self.flux_ext: float = flux_ext
        self.c1: float = c1
        self.c2: float = c2

        # eigenvectrors basis (charge or flux)
        self.basis: str = basis
        self.eigensystem_n: int = eigensystem_n  # amount of vectors in eigenbasis to find
        self.charge_n_max: int = charge_n_max  # charge basis size

    def get_pars_tuple(self) -> tuple[float]:
        return (self.EC, self.EJ, self.alpha, self.flux_ext, self.c1, self.c2)

class Tmon:
    def __init__(self, tmon_params: TmonParams=TmonParams()):
        self.pars: TmonParams = tmon_params

    @staticmethod    
    def construct_ec_cb(tmon_pars) -> np.ndarray:
        r"""
        H 4*E_C*n^2
        H = 4*E_C*\hat{n}^2
        """
        pars = tmon_pars
        diag_entries = [i**2 for i in range(-pars.charge_n_max, pars.charge_n_max + 1)]
        ec = 4*pars.EC*qp.qdiags(diagonals=[diag_entries], offsets=[0])
        return ec

    @staticmethod
    def construct_ej_cb(tmon_pars) -> np.ndarray:
        r"""
        - alpha * E_J * cos(phi - c1*flux_ext) - E_J * cos(phi - c2*flux_ext)
         - \alpha* E_J * \cos({\hat{\phi} - c1*\phi_{ext}}) - E_J * \cos({\hat{\phi} - c2*\phi_{ext}})
        """
        def get_ejj_cb(ej, phi_ext):
            # return ej*cos(\op(phi) - phi_ext) in charge basis
            ejj = qp.qdiags(
                diagonals=[
                    (ej*np.exp(-1j*2*np.pi*phi_ext))*np.ones(2*tmon_pars.charge_n_max),  # upper diagonal
                    (ej*np.exp(1j*2*np.pi*phi_ext))*np.ones(2*tmon_pars.charge_n_max)  # lower diagonal
                ],
                offsets=[1, -1]
            )
            return 1/2*ejj
        pars = tmon_pars
        Ejj1 = get_ejj_cb(ej=pars.alpha*pars.EJ, phi_ext=pars.c1*pars.flux_ext)
        Ejj2 = get_ejj_cb(ej=pars.EJ, phi_ext=pars.c2*pars.flux_ext)
        return -Ejj1 - Ejj2
    
    @staticmethod
    def get_h_cb(tmon_pars: TmonParams) -> qp.Qobj:
        r"""
        H = 4*E_C*n^2 - alpha * E_J * cos(phi - c1*flux_ext) - E_J * cos(phi - c2*flux_ext)
        H = 4*E_C*\hat{n}^2 - \alpha* E_J * \cos({\hat{\phi} - c1*\phi_{ext}}) - E_J * \cos({\hat{\phi} - c2*\phi_{ext}})
        """
        Hc = Tmon.construct_ec_cb(tmon_pars=tmon_pars)
        Hj = Tmon.construct_ej_cb(tmon_pars=tmon_pars)
        return Hc + Hj


phi_ext_n : int = 20
phi_ext_arr = np.linspace(start=0, stop=1, num=phi_ext_n, endpoint=False)

eigvals_n = 3
evals_arr = []
evecs_arr = []


for phi_idx, phi_ext in enumerate(phi_ext_arr):
    h = Tmon.get_h_cb(TmonParams(flux_ext=phi_ext))
    evals, evecs = h.eigenstates(eigvals=eigvals_n)
    evals_arr.append(evals[1:2] - evals[0])
    evecs_arr.append(evecs)

evals_arr = np.array(evals_arr)
evecs_arr = np.array(evecs_arr)


fig, ax = plt.subplots(1,1)
for evals in evals_arr.T:
    ax.plot(phi_ext_arr, evals)





class RoResParams:
    def __init__(self, freq=7.2, kappa=2e-3, gc=12e-3, max_excitations=5) -> None:
        r"""
        Physical paramters of a lamda/4 coplanar waveguide readout resonator
        freq: float
            [GHz] resonator frequency
        kappa: float
            [Ghz] photon loss rate into readout waveguide
        gc: float
            [Ghz] coupling between resonator and qubit $H_{int} = g_c \sigma_x (a + a^{dag})$
        max_excitations: int
        """
        self.freq = freq
        self.kappa = kappa
        self.gc = gc

        self.max_excitations = 5

class RoResonator:
    def __init__(self, pars: RoResParams = RoResParams()):
        self.pars = pars

    @staticmethod
    def get_h_osc(pars: RoResParams = RoResParams()):
        r"""
        Oscillator energy
        E_r/h = \nu_r a a^{\dag}
        """
        return pars.freq*qp.num(N=pars.max_excitations)


t_pars = TmonParams(eigensystem_n=4)
r_pars = RoResParams()
phi_ext_arr = np.linspace(start=0, stop=1, num=20, endpoint=False)
n_op_eigh_list = []
evals_arr = []
evecs_arr = []
# prepare many-time used operators
n_op = qp.charge(Nmax=t_pars.charge_n_max)
pos = np.sqrt(2) * qp.position(N=r_pars.max_excitations)
h_osc = qp.tensor(qp.identity(t_pars.eigensystem_n), RoResonator.get_h_osc(r_pars))

for phi in phi_ext_arr:
    t_pars.flux_ext = phi
    h_tmon_cb = Tmon.get_h_cb(tmon_pars=t_pars)

    evals, evecs_Sm = h_tmon_cb.eigenstates(eigvals=t_pars.eigensystem_n)
    # charge operator in eigenbasis
    n_op_eigh = np.empty((len(evals), len(evals)), dtype=complex)
    for (i, v1), (j, v2) in itertools.product(enumerate(evecs_Sm), enumerate(evecs_Sm)):
        n_op_eigh[i,j] = v1.full().T.dot(n_op.full()).dot(v2.full())[0,0]
    n_op_eigh = qp.Qobj(n_op_eigh)
    
    h_q = qp.tensor(qp.qdiags(evals-evals[0]), qp.identity(r_pars.max_excitations)) 
    h_int = r_pars.gc*np.sqrt(2)*qp.tensor(n_op_eigh, pos)
    h = h_q + h_osc + h_int
    evals, evecs = h.eigenstates(eigvals=4)
    evals_arr.append(evals)
    evecs_arr.append(evecs)

evals_arr = np.array(evals_arr).T


fig, ax = plt.subplots(1,1)
for evals in (evals_arr - evals_arr[0]):
    ax.plot(phi_ext_arr, evals)




















gamma = 0.1
n_basis = 10
alpha = 2
psi_0 = qp.coherent(N=n_basis, alpha=alpha)
a = qp.destroy(N=n_basis)

times = np.linspace(0,20, 100)

# monte-carlo solution


# linblad solution
sol_res = qp.mesolve(H=qp.qzero(n_basis), rho0=psi_0, tlist=times, c_ops=[np.sqrt(gamma)*a], e_ops=[qp.num(n_basis)])
y = sol_res.expect[0]
# fit with decay exponent
def f(t, *p):
    y = p[0]*np.exp(- p[1]*t) + p[2]
    return y
fit_res = sp.optimize.curve_fit(f, times, y, p0=[alpha, 5*kappa, 0])

fig, ax = plt.subplots(1,1)
ax.scatter(times, y)
ax.plot(
    times, f(times, *fit_res[0]), 'r-',
      label=r"$\langle a^{\dag}a \rangle (t) = A e^{-\kappa t} + C$" + "\n" + 
      fr"$\kappa = {fit_res[0][1]:.4} = \gamma$" + "\n" +
      r"$ c_{op} = \sqrt{\gamma/2} \hat{a}$"
)
ax.legend()






















































